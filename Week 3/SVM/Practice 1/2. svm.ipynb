{
 "cells": [
  {
   "cell_type": "markdown",
   "metadata": {},
   "source": [
    "# Bài toán phân loại sử dụng SVM \n"
   ]
  },
  {
   "cell_type": "markdown",
   "metadata": {},
   "source": [
    "Mục tiêu: \n",
    "\n",
    "- Xây dựng được mô hình svm sử dụng thư viện sklearn. \n",
    "- Ứng dụng, hiểu cách áp dụng mô hình svm vào giải quyết bài toán thực tế (vd: phân loại tin tức dạng văn bản) .\n",
    "- Sử dụng độ đo Accuracy để làm độ đo đánh giá chất lượng mô hình. \n",
    "\n",
    "Vấn đề: \n",
    "\n",
    "- Có một tập các văn bản dạng text không có nhãn, làm sao để biết văn bản này là thuộc về thể loại nào, pháp luật, đời sống, văn học, thể thao ...\n",
    "- Cần xây dựng mô hình học máy phân loại các thể loại của văn bản dựa trên nội dung.  \n",
    "\n",
    "Dữ liệu: \n",
    "\n",
    "- Có tập các văn bản và nhãn tương ứng của từng văn bản trong một khoảng thời gian \n",
    "- Tập các nhãn - 10 nhãn văn bản: \n",
    "    > Giải trí, Khoa học - Công nghệ, Kinh tế, Pháp luật, Sức khỏe, Thể thao, Thời sự, Tin khác, Độc giả, Đời sống - Xã hội\n",
    "- Ví dụ văn bản nhãn **thể thao**: \n",
    "    > \"Dân_trí Real Madrid đã dẫn trước trong cả trận đấu , nhưng họ vẫn phải chấp_nhận bị Dortmund cầm hòa 2-2 ở Bernabeu . Real Madrid chấp_nhận đứng thứ_hai ở bảng F Champions League ...\"\n",
    "\n",
    "Bài toán: \n",
    "\n",
    "- Input: tập các từ trong văn bản 1 mẫu dữ liệu $X = [x_1, x_2, ... x_n]$\n",
    "- Output: nhãn $y$ là 1 trong 10 nhãn trên "
   ]
  },
  {
   "cell_type": "code",
   "metadata": {
    "ExecuteTime": {
     "end_time": "2025-09-10T13:55:58.361043Z",
     "start_time": "2025-09-10T13:55:57.787237Z"
    }
   },
   "source": [
    "# Cài đặt thư viện xử lý ngôn ngữ cho tiếng Việt!\n",
    "!pip install pyvi"
   ],
   "outputs": [
    {
     "name": "stdout",
     "output_type": "stream",
     "text": [
      "Requirement already satisfied: pyvi in /home/bonxom/ISE_Lab/.venv/lib/python3.12/site-packages (0.1.1)\r\n",
      "Requirement already satisfied: scikit-learn in /home/bonxom/ISE_Lab/.venv/lib/python3.12/site-packages (from pyvi) (1.7.1)\r\n",
      "Requirement already satisfied: sklearn-crfsuite in /home/bonxom/ISE_Lab/.venv/lib/python3.12/site-packages (from pyvi) (0.5.0)\r\n",
      "Requirement already satisfied: numpy>=1.22.0 in /home/bonxom/ISE_Lab/.venv/lib/python3.12/site-packages (from scikit-learn->pyvi) (2.3.2)\r\n",
      "Requirement already satisfied: scipy>=1.8.0 in /home/bonxom/ISE_Lab/.venv/lib/python3.12/site-packages (from scikit-learn->pyvi) (1.16.1)\r\n",
      "Requirement already satisfied: joblib>=1.2.0 in /home/bonxom/ISE_Lab/.venv/lib/python3.12/site-packages (from scikit-learn->pyvi) (1.5.2)\r\n",
      "Requirement already satisfied: threadpoolctl>=3.1.0 in /home/bonxom/ISE_Lab/.venv/lib/python3.12/site-packages (from scikit-learn->pyvi) (3.6.0)\r\n",
      "Requirement already satisfied: python-crfsuite>=0.9.7 in /home/bonxom/ISE_Lab/.venv/lib/python3.12/site-packages (from sklearn-crfsuite->pyvi) (0.9.11)\r\n",
      "Requirement already satisfied: tabulate>=0.4.2 in /home/bonxom/ISE_Lab/.venv/lib/python3.12/site-packages (from sklearn-crfsuite->pyvi) (0.9.0)\r\n",
      "Requirement already satisfied: tqdm>=2.0 in /home/bonxom/ISE_Lab/.venv/lib/python3.12/site-packages (from sklearn-crfsuite->pyvi) (4.67.1)\r\n",
      "\r\n",
      "\u001B[1m[\u001B[0m\u001B[34;49mnotice\u001B[0m\u001B[1;39;49m]\u001B[0m\u001B[39;49m A new release of pip is available: \u001B[0m\u001B[31;49m25.1.1\u001B[0m\u001B[39;49m -> \u001B[0m\u001B[32;49m25.2\u001B[0m\r\n",
      "\u001B[1m[\u001B[0m\u001B[34;49mnotice\u001B[0m\u001B[1;39;49m]\u001B[0m\u001B[39;49m To update, run: \u001B[0m\u001B[32;49mpip install --upgrade pip\u001B[0m\r\n"
     ]
    }
   ],
   "execution_count": 1
  },
  {
   "cell_type": "code",
   "metadata": {
    "ExecuteTime": {
     "end_time": "2025-09-10T14:01:28.907654Z",
     "start_time": "2025-09-10T14:01:28.901474Z"
    }
   },
   "source": [
    "import matplotlib.pyplot as plt\n",
    "import numpy as np\n",
    "\n",
    "from sklearn.datasets import load_files\n",
    "from pyvi import ViTokenizer\n",
    "\n",
    "\n",
    "from sklearn import svm\n",
    "from sklearn.feature_extraction.text import CountVectorizer, TfidfVectorizer\n",
    "from sklearn.feature_extraction.text import TfidfTransformer\n",
    "from sklearn.model_selection import train_test_split, GridSearchCV\n",
    "from sklearn.pipeline import Pipeline\n",
    "from sklearn.model_selection import ShuffleSplit\n",
    "from sklearn.model_selection import learning_curve\n",
    "\n",
    "%matplotlib inline"
   ],
   "outputs": [],
   "execution_count": 22
  },
  {
   "cell_type": "markdown",
   "metadata": {},
   "source": [
    "## 1. Sử dụng sklearn.datasets.load_files để load dữ liệu từ thư mục đã down từ trước\n",
    "\n",
    "Cấu trúc thư mục như sau \n",
    "\n",
    "- data/news_1135/\n",
    "\n",
    "    - Kinh tế: \n",
    "        - bài báo 1.txt \n",
    "        - bài báo 2.txt \n",
    "    - Pháp luật\n",
    "        - bài báo 3.txt \n",
    "        - bài báo 4.txt "
   ]
  },
  {
   "cell_type": "code",
   "metadata": {
    "ExecuteTime": {
     "end_time": "2025-09-10T14:01:31.539766Z",
     "start_time": "2025-09-10T14:01:31.470313Z"
    }
   },
   "source": [
    "data_train = load_files(container_path=\"data/news_1135/\", encoding=\"utf-8\")\n",
    "\n",
    "print(data_train.filenames)\n",
    "print()\n",
    "\n",
    "print(\"Tong so file: {}\" .format( len(data_train.filenames)))\n",
    "print(\"Danh sách nhãn và id tương ứng: \", [(idx, name) for idx, name in enumerate(data_train.target_names)] )\n"
   ],
   "outputs": [
    {
     "name": "stdout",
     "output_type": "stream",
     "text": [
      "['data/news_1135/Pháp luật/0e7537e00a4dd4c8c1b8d786858885c920311800.txt'\n",
      " 'data/news_1135/Thời sự/7ea376282b8acc4cb3784dbaa9fa995b52e57ce1.txt'\n",
      " 'data/news_1135/Thể thao/e78ef641b159653587e011d5929935b33e78c8d8.txt'\n",
      " ...\n",
      " 'data/news_1135/Tin kh†c/79a417e6e6db3325e0a9485fe4e7ed504f526ec7.txt'\n",
      " 'data/news_1135/Thể thao/5ee1dd38f31f2c61aa851907eddbc3d84dbad1b4.txt'\n",
      " 'data/news_1135/Thời sự/4d983a17cb022cdb89d9ddcdfe6475b32f4673e1.txt']\n",
      "\n",
      "Tong so file: 1027\n",
      "Danh sách nhãn và id tương ứng:  [(0, 'Giải trí'), (1, 'Khoa học - Công nghệ'), (2, 'Kinh tế'), (3, 'Pháp luật'), (4, 'Sức khỏe'), (5, 'Thể thao'), (6, 'Thời sự'), (7, 'Tin kh†c'), (8, 'Độc giả'), (9, 'Đời sống - Xã hội')]\n"
     ]
    }
   ],
   "execution_count": 23
  },
  {
   "cell_type": "markdown",
   "metadata": {},
   "source": [
    "###  Tiền xử lý dữ liệu đưa dữ liệu từ dạng text về dạng ma trận \n",
    "\n",
    "- Thử nghiệm để kiểm tra hoạt động chuyển hoá dữ liệu về dạng ma trận "
   ]
  },
  {
   "cell_type": "code",
   "metadata": {
    "scrolled": true,
    "ExecuteTime": {
     "end_time": "2025-09-10T14:01:34.429037Z",
     "start_time": "2025-09-10T14:01:34.199185Z"
    }
   },
   "source": [
    "# load dữ liệu các stopwords \n",
    "with open(\"data/vietnamese-stopwords.txt\",encoding=\"utf-8\") as f:\n",
    "    stopwords = f.readlines()\n",
    "stopwords = [x.strip().replace(\" \", \"_\") for x in stopwords] \n",
    "print(\"Danh sách 10 từ dừng đầu tiên (từ không mang ý nghĩa phân loại): \", stopwords[:10])\n",
    "\n",
    "# Transforming data \n",
    "# Chuyển hoá dữ liệu text về dạng vector tfidf \n",
    "#     - loại bỏ từ dừng\n",
    "#     - sinh từ điển\n",
    "module_count_vector = CountVectorizer(stop_words=stopwords)\n",
    "model_rf_preprocess = Pipeline([('vect', module_count_vector),\n",
    "                    ('tfidf', TfidfTransformer()),\n",
    "                    ])\n",
    "# Hàm thực hiện chuyển đổi dữ liệu text thành dữ liệu số dạng ma trận \n",
    "# Input: Dữ liệu 2 chiều dạng numpy.array, mảng nhãn id dạng numpy.array \n",
    "data_preprocessed = model_rf_preprocess.fit_transform(data_train.data, data_train.target)\n",
    "print(\"10 từ đầu tiên trong từ điển:\")\n",
    "i = 0\n",
    "for k,v in module_count_vector.vocabulary_.items():\n",
    "    i+=1\n",
    "    print(i, \": \", (k, v))\n",
    "    if i > 10:\n",
    "        break "
   ],
   "outputs": [
    {
     "name": "stdout",
     "output_type": "stream",
     "text": [
      "Danh sách 10 từ dừng đầu tiên (từ không mang ý nghĩa phân loại):  ['a_lô', 'a_ha', 'ai', 'ai_ai', 'ai_nấy', 'ai_đó', 'alô', 'amen', 'anh', 'anh_ấy']\n",
      "10 từ đầu tiên trong từ điển:\n",
      "1 :  ('dân_trí', 6637)\n",
      "2 :  ('trình_báo', 18949)\n",
      "3 :  ('sống', 17035)\n",
      "4 :  ('lâu_năm', 11077)\n",
      "5 :  ('chùa', 4684)\n",
      "6 :  ('chiều', 4401)\n",
      "7 :  ('tượng', 19801)\n",
      "8 :  ('phật', 14925)\n",
      "9 :  ('chánh', 4551)\n",
      "10 :  ('điện', 22142)\n",
      "11 :  ('nam', 12684)\n"
     ]
    }
   ],
   "execution_count": 24
  },
  {
   "cell_type": "markdown",
   "metadata": {},
   "source": [
    "### Bài 1: Sử dụng trực tiếp TfidfVectorizer()\n",
    "https://scikit-learn.org/stable/modules/generated/sklearn.feature_extraction.text.TfidfVectorizer.html"
   ]
  },
  {
   "cell_type": "code",
   "metadata": {
    "ExecuteTime": {
     "end_time": "2025-09-10T14:01:35.898097Z",
     "start_time": "2025-09-10T14:01:35.682284Z"
    }
   },
   "source": [
    "# Chú ý: có thể biến đổi dữ liệu về dạng Tf-Idf trực tiếp sử dụng TfidfVectorizer()\n",
    "# Bài tập: \n",
    "# - thực hiện điều đó\n",
    "# - hiển thị 10 từ trong văn bản đầu tiên có giá trị tfidf cao nhất\n",
    "# code\n",
    "vectorizer = TfidfVectorizer(stop_words=stopwords)\n",
    "data_tfidf = vectorizer.fit_transform(data_train.data)\n",
    "print(type(data_tfidf))\n",
    "\n",
    "words = vectorizer.get_feature_names_out()\n",
    "print(type(words), words)\n",
    "\n",
    "first_doc = data_tfidf[0].toarray().flatten()\n",
    "print(first_doc.shape)\n",
    "\n",
    "sorted_tfidf = np.sort(first_doc)[::-1]\n",
    "sorted_idx = first_doc.argsort()[::-1] #return idx, des\n",
    "top10_id = sorted_idx[:10]\n",
    "for id in top10_id:\n",
    "    print(words[id], first_doc[id])"
   ],
   "outputs": [
    {
     "name": "stdout",
     "output_type": "stream",
     "text": [
      "<class 'scipy.sparse._csr.csr_matrix'>\n",
      "<class 'numpy.ndarray'> ['00' '000' '0000' ... 'ứng_viên' 'ứng_xử' 'ỷ_lại']\n",
      "(23343,)\n",
      "chùa 0.40240861872588835\n",
      "tượng 0.31647969464881753\n",
      "trình_báo 0.24144517123553305\n",
      "vàng 0.20097792849811671\n",
      "phật 0.19536838237128315\n",
      "công_an 0.19386508051179627\n",
      "đục 0.1871475297626935\n",
      "thủ_đức 0.18077094108520872\n",
      "cột 0.17115585231526417\n",
      "cất_giấu 0.17115585231526417\n"
     ]
    }
   ],
   "execution_count": 25
  },
  {
   "cell_type": "markdown",
   "metadata": {},
   "source": [
    "### Chia dữ liệu làm 2 phần training và testing \n",
    "\n",
    "- Training chiếm 80 % dữ liệu \n",
    "- Testing chiếm 20 % dữ liệu "
   ]
  },
  {
   "cell_type": "code",
   "metadata": {
    "ExecuteTime": {
     "end_time": "2025-09-10T14:01:37.545237Z",
     "start_time": "2025-09-10T14:01:37.536406Z"
    }
   },
   "source": [
    "from sklearn.model_selection import ShuffleSplit\n",
    "\n",
    "# chia dữ liệu thành 2 phần sử dụng hàm train_test_split.\n",
    "test_size = 0.2\n",
    "# cv = ShuffleSplit(n_splits=10, test_size=0.2, random_state=0)\n",
    "X_train, X_test, y_train, y_test = train_test_split( data_preprocessed, data_train.target, test_size=test_size)\n",
    "\n",
    "# hiển thị một số thông tin về dữ liệu \n",
    "print(\"Dữ liệu training: \", X_train.shape, y_train.shape)\n",
    "print(\"Dữ liệu testing: \", X_test.shape, y_test.shape)\n",
    "print(\"Danh sách nhãn và id tương ứng: \", [(idx, name) for idx, name in enumerate(data_train.target_names)] )"
   ],
   "outputs": [
    {
     "name": "stdout",
     "output_type": "stream",
     "text": [
      "Dữ liệu training:  (821, 23343) (821,)\n",
      "Dữ liệu testing:  (206, 23343) (206,)\n",
      "Danh sách nhãn và id tương ứng:  [(0, 'Giải trí'), (1, 'Khoa học - Công nghệ'), (2, 'Kinh tế'), (3, 'Pháp luật'), (4, 'Sức khỏe'), (5, 'Thể thao'), (6, 'Thời sự'), (7, 'Tin kh†c'), (8, 'Độc giả'), (9, 'Đời sống - Xã hội')]\n"
     ]
    }
   ],
   "execution_count": 26
  },
  {
   "cell_type": "markdown",
   "metadata": {},
   "source": [
    "## 2. Training svm model \n",
    "\n",
    "Sử dụng thư viện sklearn để xây dựng mô hình\n",
    "-  Thử trước với hàm nhân phân tách là Linear, tham số C=1.0\n",
    "- `svm.SVC(kernel='linear', C=1.0)`\n",
    " "
   ]
  },
  {
   "cell_type": "code",
   "metadata": {
    "ExecuteTime": {
     "end_time": "2025-09-10T14:01:40.185058Z",
     "start_time": "2025-09-10T14:01:39.180285Z"
    }
   },
   "source": [
    "print(\"- Training ...\")\n",
    "print(\"- Train size = {}\".format(X_train.shape))\n",
    "model = svm.SVC(kernel='linear', C=1) #use hyperplane\n",
    "model.fit(X_train, y_train)\n",
    "print(\"- model - train complete\")\n"
   ],
   "outputs": [
    {
     "name": "stdout",
     "output_type": "stream",
     "text": [
      "- Training ...\n",
      "- Train size = (821, 23343)\n",
      "- model - train complete\n"
     ]
    }
   ],
   "execution_count": 27
  },
  {
   "cell_type": "markdown",
   "metadata": {},
   "source": [
    "## 3. Testing svm model \n",
    "\n",
    "Thực hiện dự đoán nhãn cho từng văn bản trong tập test \n",
    "\n",
    "Độ đo đánh giá: \n",
    "> accuracy = tổng số văn bản dự đoán đúng  / tổng số văn bản có trong tập test  "
   ]
  },
  {
   "cell_type": "code",
   "metadata": {
    "ExecuteTime": {
     "end_time": "2025-09-10T14:01:41.413015Z",
     "start_time": "2025-09-10T14:01:40.725449Z"
    }
   },
   "source": [
    "from sklearn.metrics import accuracy_score\n",
    "print(\"- Testing ...\")\n",
    "y_test_pred = model.predict(X_test)\n",
    "y_train_pred = model.predict(X_train)\n",
    "print(\"- Test Acc = {}\".format(accuracy_score(y_test, y_test_pred)))\n",
    "print(\"- Train Acc = {}\".format(accuracy_score(y_train, y_train_pred)))\n"
   ],
   "outputs": [
    {
     "name": "stdout",
     "output_type": "stream",
     "text": [
      "- Testing ...\n",
      "- Test Acc = 0.9029126213592233\n",
      "- Train Acc = 0.9939098660170523\n"
     ]
    }
   ],
   "execution_count": 28
  },
  {
   "cell_type": "markdown",
   "metadata": {},
   "source": [
    "### Bài 2: thực hiện lại các bước trên với kernel = 'rbf'"
   ]
  },
  {
   "cell_type": "code",
   "metadata": {
    "ExecuteTime": {
     "end_time": "2025-09-10T14:01:51.255483Z",
     "start_time": "2025-09-10T14:01:49.481281Z"
    }
   },
   "source": [
    "# code\n",
    "model_rbf = svm.SVC(kernel='rbf', C=2)\n",
    "model_rbf.fit(X_train, y_train)\n",
    "\n",
    "y_test_rbf_pred = model_rbf.predict(X_test)\n",
    "y_train_rbf_pred = model_rbf.predict(X_train)\n",
    "\n",
    "print(\"- Test Acc = {}\".format(accuracy_score(y_test, y_test_rbf_pred)))\n",
    "print(\"- Train Acc = {}\".format(accuracy_score(y_train, y_train_rbf_pred)))\n"
   ],
   "outputs": [
    {
     "name": "stdout",
     "output_type": "stream",
     "text": [
      "- Test Acc = 0.8495145631067961\n",
      "- Train Acc = 1.0\n"
     ]
    }
   ],
   "execution_count": 29
  },
  {
   "metadata": {},
   "cell_type": "markdown",
   "source": [
    "#### Đặc trưng của dataset là sparse và high dimension\n",
    " * Linear: K = <x, z>: 2 văn bản x và z có nhiều từ chung thì K lớn\n",
    " * RBF: K = exp(-||x - z ||^2 / 2sigma), RBF không cho đặc trưng tốt với sparse data, ví dụ x = (0, 0, 5, 10), z = (2, 2, 0, 1) thì K vẫn rất cao dù x và z chả chung gì mấy"
   ]
  },
  {
   "cell_type": "markdown",
   "metadata": {},
   "source": [
    "### 3.1. Thực hiện sử dụng model đã được train để infer 1 văn bản mới \n",
    "- Dữ liệu mới đến ở dạng dữ liệu thô => cần tiền xử lý dữ liệu về dạng dữ_liệu_ma_trận\n",
    "- infer sử dụng hàm model.predict(dữ_liệu_ma_trận) "
   ]
  },
  {
   "cell_type": "code",
   "metadata": {
    "ExecuteTime": {
     "end_time": "2025-09-10T14:01:57.002355Z",
     "start_time": "2025-09-10T14:01:56.994784Z"
    }
   },
   "source": [
    "# Tiền xử lý dữ liệu sử dụng module model_rf_preprocess. \n",
    "new_doc = \"Công phượng ghi bàn cho đội tuyển Việt nam\"\n",
    "# Trước hết, cần thực hiện tách từ sử dụng pyvi\n",
    "tokenized_new_doc = ViTokenizer.tokenize(new_doc)\n",
    "# Cần đưa văn bản ở dạng mảng/vector\n",
    "tokenized_new_doc = [tokenized_new_doc]\n",
    "print(tokenized_new_doc)\n",
    "# Rồi sử dụng module model_rf_preprocess\n",
    "input_data_preprocessed = model_rf_preprocess.transform(tokenized_new_doc)\n",
    "print(input_data_preprocessed)"
   ],
   "outputs": [
    {
     "name": "stdout",
     "output_type": "stream",
     "text": [
      "['Công phượng ghi_bàn cho đội_tuyển Việt_nam']\n",
      "<Compressed Sparse Row sparse matrix of dtype 'float64'\n",
      "\twith 5 stored elements and shape (1, 23343)>\n",
      "  Coords\tValues\n",
      "  (0, 5604)\t0.3259420645757043\n",
      "  (0, 7434)\t0.4571409262822909\n",
      "  (0, 14857)\t0.6494454479437373\n",
      "  (0, 20576)\t0.23243650255677087\n",
      "  (0, 23104)\t0.4571409262822909\n"
     ]
    }
   ],
   "execution_count": 30
  },
  {
   "cell_type": "markdown",
   "metadata": {},
   "source": [
    "### Bài 3: dự đoán nhãn của văn bản trên"
   ]
  },
  {
   "cell_type": "code",
   "metadata": {
    "ExecuteTime": {
     "end_time": "2025-09-10T14:02:00.800296Z",
     "start_time": "2025-09-10T14:02:00.791692Z"
    }
   },
   "source": [
    "# code\n",
    "y_pred_exp1 = model.predict(input_data_preprocessed)\n",
    "print(y_pred_exp1, data_train.target_names[y_pred_exp1[0]])\n",
    "\n",
    "y_pred_exp2 = model_rbf.predict(input_data_preprocessed)\n",
    "print(y_pred_exp2, data_train.target_names[y_pred_exp2[0]])\n"
   ],
   "outputs": [
    {
     "name": "stdout",
     "output_type": "stream",
     "text": [
      "[5] Thể thao\n",
      "[5] Thể thao\n"
     ]
    }
   ],
   "execution_count": 31
  },
  {
   "cell_type": "markdown",
   "metadata": {},
   "source": [
    "## 4. Bài tập bổ sung: \n",
    "\n",
    "### 4.1 Thử nghiệm các tham số \n",
    "\n",
    "- Các tham số với giá trị khác nhau có thể ảnh hưởng để kết quả học \n",
    "- Cần thử nghiệm kỹ lượng để đưa ra kết quả khách quan: tham số C, gamma, kernel. \n",
    "    - Chọn mô hình với bộ tham số cho kết quả tốt nhất \n",
    "- Gợi ý: \n",
    "    - https://scikit-learn.org/stable/modules/generated/sklearn.svm.SVC.html\n",
    "    - Sử dụng grid search"
   ]
  },
  {
   "cell_type": "markdown",
   "metadata": {},
   "source": [
    "#### Bài 4: Vẽ Learning curve khảo sát Acc của SVM-linear với tham số C thay đổi"
   ]
  },
  {
   "cell_type": "code",
   "metadata": {
    "ExecuteTime": {
     "end_time": "2025-09-10T14:06:56.523586Z",
     "start_time": "2025-09-10T14:06:45.374753Z"
    }
   },
   "source": [
    "# code\n",
    "# tham khảo miền của C\n",
    "acc_test = []\n",
    "acc_train = []\n",
    "list_C = [0.001, 0.01, 0.1, 1, 5.0, 10.0, 100]\n",
    "for C in list_C:\n",
    "    SVM = svm.SVC(kernel='linear', C=C)\n",
    "    SVM.fit(X_train, y_train)\n",
    "    y_pred_test = SVM.predict(X_test)\n",
    "    y_pred_train = SVM.predict(X_train)\n",
    "    acc_test.append(accuracy_score(y_test, y_pred_test) * 100)\n",
    "    acc_train.append(accuracy_score(y_train, y_pred_train) * 100)\n",
    "\n",
    "print(acc_test)\n",
    "print(acc_train)"
   ],
   "outputs": [
    {
     "name": "stdout",
     "output_type": "stream",
     "text": [
      "[17.96116504854369, 17.96116504854369, 36.89320388349515, 90.29126213592234, 91.2621359223301, 90.77669902912622, 86.89320388349515]\n",
      "[19.366626065773445, 19.366626065773445, 43.72716199756395, 99.39098660170524, 100.0, 100.0, 100.0]\n"
     ]
    }
   ],
   "execution_count": 36
  },
  {
   "metadata": {
    "ExecuteTime": {
     "end_time": "2025-09-10T14:08:14.406414Z",
     "start_time": "2025-09-10T14:08:14.359202Z"
    }
   },
   "cell_type": "code",
   "source": [
    "x = np.arange(len(list_C))\n",
    "plt.plot(x, acc_test, marker = 'o', label='Test')\n",
    "plt.plot(x, acc_train, marker = 'o', label='Train')\n",
    "plt.xlabel('C')\n",
    "plt.ylabel('Accuracy')\n",
    "plt.legend()\n",
    "plt.xticks(x, [str(C) for C in list_C])\n",
    "plt.show()"
   ],
   "outputs": [
    {
     "data": {
      "text/plain": [
       "<Figure size 640x480 with 1 Axes>"
      ],
      "image/png": "[encoded data removed]"
     },
     "metadata": {},
     "output_type": "display_data"
    }
   ],
   "execution_count": 41
  },
  {
   "cell_type": "markdown",
   "metadata": {},
   "source": [
    "#### Bài 5: Sử dụng GridSearchCV để tìm bộ tham số tốt nhất"
   ]
  },
  {
   "cell_type": "code",
   "metadata": {
    "ExecuteTime": {
     "end_time": "2025-09-10T14:13:45.961383Z",
     "start_time": "2025-09-10T14:13:24.751114Z"
    }
   },
   "source": [
    "# code\n",
    "# Có thể tham khảo giá trị các tham số như sau\n",
    "params_grid = {'C': [0.001, 0.01, 0.1, 1, 10, 100],\n",
    "          'gamma': [0.0001, 0.001, 0.01, 0.1],\n",
    "          'kernel':['linear','rbf', 'poly'] }\n",
    "\n",
    "gridSearchCV = GridSearchCV(estimator=svm.SVC(), param_grid=params_grid,scoring='accuracy',\n",
    "                            n_jobs=-1, cv=5)\n",
    "gridSearchCV.fit(X_train, y_train)\n",
    "\n",
    "best_model = gridSearchCV.best_estimator_\n",
    "print(best_model)"
   ],
   "outputs": [
    {
     "name": "stdout",
     "output_type": "stream",
     "text": [
      "SVC(C=1, gamma=0.0001, kernel='linear')\n"
     ]
    }
   ],
   "execution_count": 45
  },
  {
   "cell_type": "markdown",
   "metadata": {},
   "source": [
    "### 4.2 Phân loại số viết tay "
   ]
  },
  {
   "cell_type": "code",
   "metadata": {
    "ExecuteTime": {
     "end_time": "2025-09-10T14:22:05.315612Z",
     "start_time": "2025-09-10T14:22:05.253921Z"
    }
   },
   "source": [
    "# Standard scientific Python imports\n",
    "import matplotlib.pyplot as plt\n",
    "\n",
    "# Import datasets, classifiers and performance metrics\n",
    "from sklearn import datasets, svm, metrics\n",
    "\n",
    "# The digits dataset\n",
    "digits = datasets.load_digits()\n",
    "\n",
    "# The data that we are interested in is made of 8x8 images of digits, let's\n",
    "# have a look at the first 4 images, stored in the `images` attribute of the\n",
    "# dataset.  If we were working from image files, we could load them using\n",
    "# matplotlib.pyplot.imread.  Note that each image must have the same size. For these\n",
    "# images, we know which digit they represent: it is given in the 'target' of\n",
    "# the dataset.\n",
    "images_and_labels = list(zip(digits.images, digits.target))\n",
    "for index, (image, label) in enumerate(images_and_labels[:4]):\n",
    "    plt.subplot(2, 4, index + 1)\n",
    "    plt.axis('off')\n",
    "    plt.imshow(image, cmap=plt.cm.gray_r, interpolation='nearest') #zoom picture: new pixel = nearest pixel\n",
    "    plt.title('Training: %i' % label)\n",
    "\n",
    "# To apply a classifier on this data, we need to flatten the image, to\n",
    "# turn the data in a (samples, feature) matrix:\n",
    "print(digits.images.shape)\n",
    "n_samples = len(digits.images)\n",
    "data = digits.images.reshape((n_samples, -1)) #flatten\n",
    "target = digits.target\n",
    "X_train, X_test, y_train, y_test = train_test_split( data, target, test_size=test_size)\n",
    "\n",
    "print(\"Dữ liệu training = \", X_train.shape, y_train.shape)\n",
    "print(\"Dữ liệu testing = \", X_test.shape, y_test.shape)\n"
   ],
   "outputs": [
    {
     "name": "stdout",
     "output_type": "stream",
     "text": [
      "(1797, 8, 8)\n",
      "Dữ liệu training =  (1437, 64) (1437,)\n",
      "Dữ liệu testing =  (360, 64) (360,)\n"
     ]
    },
    {
     "data": {
      "text/plain": [
       "<Figure size 640x480 with 4 Axes>"
      ],
      "image/png": "[encoded data removed]"
     },
     "metadata": {},
     "output_type": "display_data"
    }
   ],
   "execution_count": 49
  },
  {
   "cell_type": "markdown",
   "metadata": {},
   "source": [
    "#### Bài 6: phân loại với dữ liệu trên"
   ]
  },
  {
   "cell_type": "code",
   "metadata": {
    "ExecuteTime": {
     "end_time": "2025-09-10T14:38:06.619780Z",
     "start_time": "2025-09-10T14:38:05.353815Z"
    }
   },
   "source": [
    "##### exercise #####\n",
    "# Yêu cầu: Ứng dụng mô hình svm vào bài toán phân loại ảnh \n",
    "# Gợi ý: dữ liệu đã được chia train, test, Áp dụng phần 2. và 3. để training và testing model. Chú ý nên có thêm phần tuning model\n",
    "######################\n",
    "\n",
    "# model = None\n",
    "######################\n",
    "params_grid = {'C': [0.001, 0.01, 0.1, 1, 10, 100],\n",
    "          'gamma': [0.0001, 0.001, 0.01, 0.1],\n",
    "          'kernel':['linear','rbf', 'poly'] }\n",
    "\n",
    "gridSearchCV = GridSearchCV(estimator=svm.SVC(), param_grid=params_grid,scoring='accuracy',\n",
    "                            n_jobs=-1, cv=5)\n",
    "gridSearchCV.fit(X_train, y_train)\n",
    "\n",
    "best_model = gridSearchCV.best_estimator_\n",
    "print(best_model)\n",
    "print(best_model.kernel)\n",
    "\n",
    "y_train_pred = best_model.predict(X_train)\n",
    "y_test_pred = best_model.predict(X_test)\n",
    "\n",
    "print(f'Training set: {accuracy_score(y_train, y_train_pred)}')\n",
    "print(f'Testing set: {accuracy_score(y_test, y_test_pred)}')"
   ],
   "outputs": [
    {
     "name": "stdout",
     "output_type": "stream",
     "text": [
      "SVC(C=1, gamma=0.001)\n",
      "rbf\n",
      "Training set: 0.9986082115518441\n",
      "Testing set: 0.9916666666666667\n"
     ]
    }
   ],
   "execution_count": 59
  },
  {
   "metadata": {},
   "cell_type": "markdown",
   "source": "#### Ở dataset này thì dữ liệu đặc hơn (tập trung chủ yếu ở giữa matrix) và ít chiều hơn (64), nên kernel RBF cho hiệu quả tốt hơn"
  },
  {
   "metadata": {
    "ExecuteTime": {
     "end_time": "2025-09-10T14:50:18.513948Z",
     "start_time": "2025-09-10T14:50:18.407525Z"
    }
   },
   "cell_type": "code",
   "source": [
    "wrongs = np.where(y_test != y_test_pred)[0]\n",
    "print(wrongs.shape)\n",
    "\n",
    "for idx, i in enumerate(wrongs):\n",
    "    plt.subplot(2, 4, idx + 1)\n",
    "    plt.axis('off')\n",
    "    plt.imshow(X_test[i].reshape(8, 8), cmap=plt.cm.gray_r, interpolation='nearest')\n",
    "    plt.title(\"%i → %i\" % (y_test[i], y_test_pred[i]))\n",
    "\n",
    "plt.show()"
   ],
   "outputs": [
    {
     "name": "stdout",
     "output_type": "stream",
     "text": [
      "(3,)\n"
     ]
    },
    {
     "data": {
      "text/plain": [
       "<Figure size 640x480 with 3 Axes>"
      ],
      "image/png": "[encoded data removed]"
     },
     "metadata": {},
     "output_type": "display_data"
    }
   ],
   "execution_count": 65
  },
  {
   "metadata": {
    "ExecuteTime": {
     "end_time": "2025-09-10T14:51:27.924228Z",
     "start_time": "2025-09-10T14:51:27.703646Z"
    }
   },
   "cell_type": "code",
   "source": [
    "for i, image in enumerate(X_test[:10]):\n",
    "    plt.subplot(2, 5, i + 1)\n",
    "    plt.axis('off')\n",
    "    plt.imshow(image.reshape(8, 8), cmap=plt.cm.gray_r, interpolation='nearest')\n",
    "    plt.title(\"%i → %i\" % (y_test[i], y_test_pred[i]))\n",
    "\n",
    "plt.show()"
   ],
   "outputs": [
    {
     "data": {
      "text/plain": [
       "<Figure size 640x480 with 10 Axes>"
      ],
      "image/png": "[encoded data removed]"
     },
     "metadata": {},
     "output_type": "display_data"
    }
   ],
   "execution_count": 66
  },
  {
   "metadata": {},
   "cell_type": "code",
   "outputs": [],
   "execution_count": null,
   "source": ""
  }
 ],
 "metadata": {
  "kernelspec": {
   "display_name": "Python 3",
   "language": "python",
   "name": "python3"
  },
  "language_info": {
   "name": "python",
   "version": ""
  }
 },
 "nbformat": 4,
 "nbformat_minor": 2
}
