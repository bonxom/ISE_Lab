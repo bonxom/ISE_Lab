{
 "cells": [
  {
   "cell_type": "markdown",
   "id": "b621c6ec-e927-44fe-8288-12669bd6d8e6",
   "metadata": {
    "id": "b621c6ec-e927-44fe-8288-12669bd6d8e6"
   },
   "source": [
    "# Bài tập thực hành 2"
   ]
  },
  {
   "cell_type": "markdown",
   "id": "6a46fa48-faca-48c4-ad31-686ffeecb940",
   "metadata": {
    "id": "6a46fa48-faca-48c4-ad31-686ffeecb940"
   },
   "source": [
    "## Yêu cầu"
   ]
  },
  {
   "cell_type": "markdown",
   "id": "a2be44ff-6778-4b38-abec-9368486f2875",
   "metadata": {
    "tags": [],
    "id": "a2be44ff-6778-4b38-abec-9368486f2875"
   },
   "source": [
    "Dự đoán doanh thu xe hơi Hyundai dòng Elantra trong năm 2013 và đầu 2014, dựa vào dữ liệu trước đó"
   ]
  },
  {
   "cell_type": "markdown",
   "id": "14969f49-9a04-4588-862c-6fadb2339d77",
   "metadata": {
    "id": "14969f49-9a04-4588-862c-6fadb2339d77"
   },
   "source": [
    "## Dữ liệu\n",
    "\n",
    "Dữ liệu được ghi trong file elantra.csv với các trường (Month, Year, ElantraSales, Unemployment, Queries, CPI_energy, CPI_all). Giá trị cần dự đoán sẽ là ElantraSales."
   ]
  },
  {
   "cell_type": "markdown",
   "id": "80abdf61-65fc-43ea-b5ee-f27164e9ee8c",
   "metadata": {
    "id": "80abdf61-65fc-43ea-b5ee-f27164e9ee8c"
   },
   "source": [
    "## Đánh giá\n",
    "\n",
    "Đánh giá mô hình dựa trên\n",
    "* Độ đo tiêu chuẩn của ML: RMSE = $\\sqrt{\\text{avg}\\left(y^{\\left(n\\right)}-\\hat{y}^{\\left(n\\right)}\\right)^{2}}$\n",
    "* Độ đo của business requirements: Mean relative errors = $\\text{avg}\\left(\\dfrac{\\left|y^{\\left(n\\right)}-\\hat{y}^{\\left(n\\right)}\\right|}{y^{\\left(n\\right)}}\\right)\\times100\\%$"
   ]
  },
  {
   "cell_type": "markdown",
   "id": "706456a2-2bc8-4fd0-b036-2c7daa519744",
   "metadata": {
    "id": "706456a2-2bc8-4fd0-b036-2c7daa519744"
   },
   "source": [
    "# Đọc dữ liệu"
   ]
  },
  {
   "cell_type": "code",
   "id": "fcf56fe2-d990-46d4-8069-b9e447a3c836",
   "metadata": {
    "id": "fcf56fe2-d990-46d4-8069-b9e447a3c836",
    "ExecuteTime": {
     "end_time": "2025-08-28T08:32:57.704289Z",
     "start_time": "2025-08-28T08:32:57.692894Z"
    }
   },
   "source": [
    "import pandas as pd\n",
    "import numpy as np  # thư viện cho tính toán nói chung\n",
    "\n",
    "df = pd.read_csv('elantra.csv')"
   ],
   "outputs": [],
   "execution_count": 4
  },
  {
   "cell_type": "code",
   "id": "768df695-da52-4079-9b4f-c0127ba9467c",
   "metadata": {
    "colab": {
     "base_uri": "https://localhost:8080/"
    },
    "id": "768df695-da52-4079-9b4f-c0127ba9467c",
    "outputId": "1ffc7e0f-ba6b-4be9-97c2-82a61bd8ec14",
    "ExecuteTime": {
     "end_time": "2025-08-28T08:32:57.745229Z",
     "start_time": "2025-08-28T08:32:57.732596Z"
    }
   },
   "source": [
    "df.tail(10) #10 last rows"
   ],
   "outputs": [
    {
     "data": {
      "text/plain": [
       "    Month  Year  ElantraSales  Unemployment  Queries  CPI_energy  CPI_all\n",
       "40     10  2012         14512           7.8      257     256.389  231.652\n",
       "41     10  2013         14876           7.2      223     243.374  233.782\n",
       "42     11  2010          8631           9.8      161     219.303  219.544\n",
       "43     11  2011         12414           8.6      255     247.092  227.136\n",
       "44     11  2012         15923           7.8      246     248.136  231.190\n",
       "45     11  2013         16751           7.0      231     242.301  234.033\n",
       "46     12  2010         13096           9.4      170     227.190  220.437\n",
       "47     12  2011         13025           8.5      253     243.015  227.093\n",
       "48     12  2012         19024           7.9      275     244.698  231.099\n",
       "49     12  2013         21692           6.7      279     246.189  234.594"
      ],
      "text/html": [
       "<div>\n",
       "<style scoped>\n",
       "    .dataframe tbody tr th:only-of-type {\n",
       "        vertical-align: middle;\n",
       "    }\n",
       "\n",
       "    .dataframe tbody tr th {\n",
       "        vertical-align: top;\n",
       "    }\n",
       "\n",
       "    .dataframe thead th {\n",
       "        text-align: right;\n",
       "    }\n",
       "</style>\n",
       "<table border=\"1\" class=\"dataframe\">\n",
       "  <thead>\n",
       "    <tr style=\"text-align: right;\">\n",
       "      <th></th>\n",
       "      <th>Month</th>\n",
       "      <th>Year</th>\n",
       "      <th>ElantraSales</th>\n",
       "      <th>Unemployment</th>\n",
       "      <th>Queries</th>\n",
       "      <th>CPI_energy</th>\n",
       "      <th>CPI_all</th>\n",
       "    </tr>\n",
       "  </thead>\n",
       "  <tbody>\n",
       "    <tr>\n",
       "      <th>40</th>\n",
       "      <td>10</td>\n",
       "      <td>2012</td>\n",
       "      <td>14512</td>\n",
       "      <td>7.8</td>\n",
       "      <td>257</td>\n",
       "      <td>256.389</td>\n",
       "      <td>231.652</td>\n",
       "    </tr>\n",
       "    <tr>\n",
       "      <th>41</th>\n",
       "      <td>10</td>\n",
       "      <td>2013</td>\n",
       "      <td>14876</td>\n",
       "      <td>7.2</td>\n",
       "      <td>223</td>\n",
       "      <td>243.374</td>\n",
       "      <td>233.782</td>\n",
       "    </tr>\n",
       "    <tr>\n",
       "      <th>42</th>\n",
       "      <td>11</td>\n",
       "      <td>2010</td>\n",
       "      <td>8631</td>\n",
       "      <td>9.8</td>\n",
       "      <td>161</td>\n",
       "      <td>219.303</td>\n",
       "      <td>219.544</td>\n",
       "    </tr>\n",
       "    <tr>\n",
       "      <th>43</th>\n",
       "      <td>11</td>\n",
       "      <td>2011</td>\n",
       "      <td>12414</td>\n",
       "      <td>8.6</td>\n",
       "      <td>255</td>\n",
       "      <td>247.092</td>\n",
       "      <td>227.136</td>\n",
       "    </tr>\n",
       "    <tr>\n",
       "      <th>44</th>\n",
       "      <td>11</td>\n",
       "      <td>2012</td>\n",
       "      <td>15923</td>\n",
       "      <td>7.8</td>\n",
       "      <td>246</td>\n",
       "      <td>248.136</td>\n",
       "      <td>231.190</td>\n",
       "    </tr>\n",
       "    <tr>\n",
       "      <th>45</th>\n",
       "      <td>11</td>\n",
       "      <td>2013</td>\n",
       "      <td>16751</td>\n",
       "      <td>7.0</td>\n",
       "      <td>231</td>\n",
       "      <td>242.301</td>\n",
       "      <td>234.033</td>\n",
       "    </tr>\n",
       "    <tr>\n",
       "      <th>46</th>\n",
       "      <td>12</td>\n",
       "      <td>2010</td>\n",
       "      <td>13096</td>\n",
       "      <td>9.4</td>\n",
       "      <td>170</td>\n",
       "      <td>227.190</td>\n",
       "      <td>220.437</td>\n",
       "    </tr>\n",
       "    <tr>\n",
       "      <th>47</th>\n",
       "      <td>12</td>\n",
       "      <td>2011</td>\n",
       "      <td>13025</td>\n",
       "      <td>8.5</td>\n",
       "      <td>253</td>\n",
       "      <td>243.015</td>\n",
       "      <td>227.093</td>\n",
       "    </tr>\n",
       "    <tr>\n",
       "      <th>48</th>\n",
       "      <td>12</td>\n",
       "      <td>2012</td>\n",
       "      <td>19024</td>\n",
       "      <td>7.9</td>\n",
       "      <td>275</td>\n",
       "      <td>244.698</td>\n",
       "      <td>231.099</td>\n",
       "    </tr>\n",
       "    <tr>\n",
       "      <th>49</th>\n",
       "      <td>12</td>\n",
       "      <td>2013</td>\n",
       "      <td>21692</td>\n",
       "      <td>6.7</td>\n",
       "      <td>279</td>\n",
       "      <td>246.189</td>\n",
       "      <td>234.594</td>\n",
       "    </tr>\n",
       "  </tbody>\n",
       "</table>\n",
       "</div>"
      ]
     },
     "execution_count": 5,
     "metadata": {},
     "output_type": "execute_result"
    }
   ],
   "execution_count": 5
  },
  {
   "cell_type": "code",
   "id": "a9a21a8e-e14a-431e-93a5-d625daedfd68",
   "metadata": {
    "colab": {
     "base_uri": "https://localhost:8080/"
    },
    "id": "a9a21a8e-e14a-431e-93a5-d625daedfd68",
    "outputId": "fbd864e9-89fd-4ccc-8c10-f6ff1e979c83",
    "ExecuteTime": {
     "end_time": "2025-08-28T08:32:57.835996Z",
     "start_time": "2025-08-28T08:32:57.823883Z"
    }
   },
   "source": [
    "##### exercise #####\n",
    "# Yêu cầu: Sắp xếp lại thứ tự các hàng dữ liệu theo tháng/năm\n",
    "# Gợi ý: sử dụng df.sort_values và df.reset_index\n",
    "######################\n",
    "df.sort_values(by = [ 'Year', 'Month'], ascending = True, inplace = True) #prioritizely sort by Year, then Month\n",
    "df.reset_index(drop = True, inplace = True)\n",
    "#inplace: true -> replace the old data. False -> create a copy\n",
    "#drop: true -> drop the old index. False -> 2 col of index\n",
    "\n",
    "df.tail(10)"
   ],
   "outputs": [
    {
     "data": {
      "text/plain": [
       "    Month  Year  ElantraSales  Unemployment  Queries  CPI_energy  CPI_all\n",
       "40      5  2013         25090           7.5      252     240.972  232.124\n",
       "41      6  2013         22163           7.5      320     245.412  232.860\n",
       "42      7  2013         23958           7.3      274     245.926  233.252\n",
       "43      8  2013         24700           7.2      271     244.917  233.433\n",
       "44      9  2013         19691           7.2      298     245.566  233.743\n",
       "45     10  2013         14876           7.2      223     243.374  233.782\n",
       "46     11  2013         16751           7.0      231     242.301  234.033\n",
       "47     12  2013         21692           6.7      279     246.189  234.594\n",
       "48      1  2014         15326           6.6      232     247.575  234.933\n",
       "49      2  2014         16393           6.7      240     246.389  235.169"
      ],
      "text/html": [
       "<div>\n",
       "<style scoped>\n",
       "    .dataframe tbody tr th:only-of-type {\n",
       "        vertical-align: middle;\n",
       "    }\n",
       "\n",
       "    .dataframe tbody tr th {\n",
       "        vertical-align: top;\n",
       "    }\n",
       "\n",
       "    .dataframe thead th {\n",
       "        text-align: right;\n",
       "    }\n",
       "</style>\n",
       "<table border=\"1\" class=\"dataframe\">\n",
       "  <thead>\n",
       "    <tr style=\"text-align: right;\">\n",
       "      <th></th>\n",
       "      <th>Month</th>\n",
       "      <th>Year</th>\n",
       "      <th>ElantraSales</th>\n",
       "      <th>Unemployment</th>\n",
       "      <th>Queries</th>\n",
       "      <th>CPI_energy</th>\n",
       "      <th>CPI_all</th>\n",
       "    </tr>\n",
       "  </thead>\n",
       "  <tbody>\n",
       "    <tr>\n",
       "      <th>40</th>\n",
       "      <td>5</td>\n",
       "      <td>2013</td>\n",
       "      <td>25090</td>\n",
       "      <td>7.5</td>\n",
       "      <td>252</td>\n",
       "      <td>240.972</td>\n",
       "      <td>232.124</td>\n",
       "    </tr>\n",
       "    <tr>\n",
       "      <th>41</th>\n",
       "      <td>6</td>\n",
       "      <td>2013</td>\n",
       "      <td>22163</td>\n",
       "      <td>7.5</td>\n",
       "      <td>320</td>\n",
       "      <td>245.412</td>\n",
       "      <td>232.860</td>\n",
       "    </tr>\n",
       "    <tr>\n",
       "      <th>42</th>\n",
       "      <td>7</td>\n",
       "      <td>2013</td>\n",
       "      <td>23958</td>\n",
       "      <td>7.3</td>\n",
       "      <td>274</td>\n",
       "      <td>245.926</td>\n",
       "      <td>233.252</td>\n",
       "    </tr>\n",
       "    <tr>\n",
       "      <th>43</th>\n",
       "      <td>8</td>\n",
       "      <td>2013</td>\n",
       "      <td>24700</td>\n",
       "      <td>7.2</td>\n",
       "      <td>271</td>\n",
       "      <td>244.917</td>\n",
       "      <td>233.433</td>\n",
       "    </tr>\n",
       "    <tr>\n",
       "      <th>44</th>\n",
       "      <td>9</td>\n",
       "      <td>2013</td>\n",
       "      <td>19691</td>\n",
       "      <td>7.2</td>\n",
       "      <td>298</td>\n",
       "      <td>245.566</td>\n",
       "      <td>233.743</td>\n",
       "    </tr>\n",
       "    <tr>\n",
       "      <th>45</th>\n",
       "      <td>10</td>\n",
       "      <td>2013</td>\n",
       "      <td>14876</td>\n",
       "      <td>7.2</td>\n",
       "      <td>223</td>\n",
       "      <td>243.374</td>\n",
       "      <td>233.782</td>\n",
       "    </tr>\n",
       "    <tr>\n",
       "      <th>46</th>\n",
       "      <td>11</td>\n",
       "      <td>2013</td>\n",
       "      <td>16751</td>\n",
       "      <td>7.0</td>\n",
       "      <td>231</td>\n",
       "      <td>242.301</td>\n",
       "      <td>234.033</td>\n",
       "    </tr>\n",
       "    <tr>\n",
       "      <th>47</th>\n",
       "      <td>12</td>\n",
       "      <td>2013</td>\n",
       "      <td>21692</td>\n",
       "      <td>6.7</td>\n",
       "      <td>279</td>\n",
       "      <td>246.189</td>\n",
       "      <td>234.594</td>\n",
       "    </tr>\n",
       "    <tr>\n",
       "      <th>48</th>\n",
       "      <td>1</td>\n",
       "      <td>2014</td>\n",
       "      <td>15326</td>\n",
       "      <td>6.6</td>\n",
       "      <td>232</td>\n",
       "      <td>247.575</td>\n",
       "      <td>234.933</td>\n",
       "    </tr>\n",
       "    <tr>\n",
       "      <th>49</th>\n",
       "      <td>2</td>\n",
       "      <td>2014</td>\n",
       "      <td>16393</td>\n",
       "      <td>6.7</td>\n",
       "      <td>240</td>\n",
       "      <td>246.389</td>\n",
       "      <td>235.169</td>\n",
       "    </tr>\n",
       "  </tbody>\n",
       "</table>\n",
       "</div>"
      ]
     },
     "execution_count": 6,
     "metadata": {},
     "output_type": "execute_result"
    }
   ],
   "execution_count": 6
  },
  {
   "cell_type": "code",
   "id": "e7e4924b-15ae-4bf3-ab04-c73f4f6ebb95",
   "metadata": {
    "colab": {
     "base_uri": "https://localhost:8080/"
    },
    "id": "e7e4924b-15ae-4bf3-ab04-c73f4f6ebb95",
    "outputId": "57bf369c-7bf2-4339-e822-7314fcc9c204",
    "ExecuteTime": {
     "end_time": "2025-08-28T08:32:58.050210Z",
     "start_time": "2025-08-28T08:32:57.926908Z"
    }
   },
   "source": [
    "import matplotlib.pyplot as plt\n",
    "\n",
    "plt.figure(figsize=(9,6))\n",
    "\n",
    "plt.plot(df.ElantraSales.values)\n",
    "\n",
    "plt.xlabel('Time index')\n",
    "\n",
    "plt.ylabel('Sales')\n",
    "\n",
    "\n",
    "# function to show the plot\n",
    "plt.show()"
   ],
   "outputs": [
    {
     "data": {
      "text/plain": [
       "<Figure size 900x600 with 1 Axes>"
      ],
      "image/png": "[encoded data removed]"
     },
     "metadata": {},
     "output_type": "display_data"
    }
   ],
   "execution_count": 7
  },
  {
   "cell_type": "code",
   "id": "b40e4f2c-975c-4aba-8378-2476d7c169fd",
   "metadata": {
    "colab": {
     "base_uri": "https://localhost:8080/"
    },
    "id": "b40e4f2c-975c-4aba-8378-2476d7c169fd",
    "outputId": "fdebaa15-fd17-4287-87d0-6ceb881674a5",
    "ExecuteTime": {
     "end_time": "2025-08-28T08:32:58.137349Z",
     "start_time": "2025-08-28T08:32:58.134183Z"
    }
   },
   "source": [
    "numeric_feats = df.columns.drop([\"ElantraSales\", \"Month\", \"Year\"]) #these Features do not need in our model\n",
    "numeric_feats\n",
    "#df.columns return pandas list of Feature of DataFrame\n",
    "#drop -> drop in list"
   ],
   "outputs": [
    {
     "data": {
      "text/plain": [
       "Index(['Unemployment', 'Queries', 'CPI_energy', 'CPI_all'], dtype='object')"
      ]
     },
     "execution_count": 8,
     "metadata": {},
     "output_type": "execute_result"
    }
   ],
   "execution_count": 8
  },
  {
   "cell_type": "code",
   "id": "2658fdbd-ee9f-4480-9a66-df119979ee20",
   "metadata": {
    "id": "2658fdbd-ee9f-4480-9a66-df119979ee20",
    "ExecuteTime": {
     "end_time": "2025-08-28T08:32:58.231925Z",
     "start_time": "2025-08-28T08:32:58.226937Z"
    }
   },
   "source": [
    "df_train = df[df.Year < 2013]\n",
    "df_test = df[df.Year >= 2013]\n",
    "\n",
    "y_train = df_train.ElantraSales.values\n",
    "y_test = df_test.ElantraSales.values"
   ],
   "outputs": [],
   "execution_count": 9
  },
  {
   "cell_type": "markdown",
   "id": "5ddaf36b-848b-46a6-b23e-4243e31f531b",
   "metadata": {
    "id": "5ddaf36b-848b-46a6-b23e-4243e31f531b"
   },
   "source": [
    "**feature scaling**"
   ]
  },
  {
   "cell_type": "code",
   "id": "a1089e1e-b170-4382-b12d-0b8b4c2173cf",
   "metadata": {
    "colab": {
     "base_uri": "https://localhost:8080/"
    },
    "id": "a1089e1e-b170-4382-b12d-0b8b4c2173cf",
    "outputId": "f0d250a2-3bfd-463f-8b9b-daec3c8777da",
    "ExecuteTime": {
     "end_time": "2025-08-28T08:32:58.379001Z",
     "start_time": "2025-08-28T08:32:58.305735Z"
    }
   },
   "source": [
    "# Chuẩn hóa dữ liệu bằng StandardScaler, dữ liệu được chuẩn hóa theo dạng x -> (x-mean)/std  #Normalize distribution\n",
    "# Nếu x có phân phối Gauss, dữ liệu chuẩn hóa sẽ thuộc phân phối N(0,1)\n",
    "from sklearn.preprocessing import StandardScaler\n",
    "\n",
    "scaler = StandardScaler().fit(df_train[numeric_feats])\n",
    "\n",
    "X_train = scaler.transform(df_train[numeric_feats])\n",
    "X_test = scaler.transform(df_test[numeric_feats])\n",
    "\n",
    "print('type of df_train: ', type(df_train))\n",
    "print('type of X_train: ', type(X_train))\n",
    "print(f'shape of X_train: {X_train.shape}, X_test: {X_test.shape}')"
   ],
   "outputs": [
    {
     "name": "stdout",
     "output_type": "stream",
     "text": [
      "type of df_train:  <class 'pandas.core.frame.DataFrame'>\n",
      "type of X_train:  <class 'numpy.ndarray'>\n",
      "shape of X_train: (36, 4), X_test: (14, 4)\n"
     ]
    }
   ],
   "execution_count": 10
  },
  {
   "cell_type": "markdown",
   "id": "37715735-b537-485c-8f6e-aa8361488cec",
   "metadata": {
    "id": "37715735-b537-485c-8f6e-aa8361488cec"
   },
   "source": [
    "# Xây dựng Mô hình"
   ]
  },
  {
   "cell_type": "code",
   "id": "deddfe16-d873-406f-8f2b-66f2ae675969",
   "metadata": {
    "colab": {
     "base_uri": "https://localhost:8080/"
    },
    "id": "deddfe16-d873-406f-8f2b-66f2ae675969",
    "outputId": "55e5ea4b-4b14-4ddb-f572-07d53bbf629c",
    "ExecuteTime": {
     "end_time": "2025-08-28T08:32:58.444274Z",
     "start_time": "2025-08-28T08:32:58.385394Z"
    }
   },
   "source": [
    "###### exercise #####\n",
    "# Yêu cầu: Xây dựng và huấn luyện mô hình Linear Regression\n",
    "# Gợi ý: sử dụng hàm fit() như trong bài thực hành 1\n",
    "######################\n",
    "\n",
    "from sklearn import linear_model\n",
    "\n",
    "model1 = linear_model.LinearRegression()\n",
    "model1.fit(X_train, y_train)\n",
    "\n",
    "print(f'[w_1, ...w_n] = {model1.coef_}')\n",
    "print(f'w_0 = {model1.intercept_}')\n"
   ],
   "outputs": [
    {
     "name": "stdout",
     "output_type": "stream",
     "text": [
      "[w_1, ...w_n] = [-2098.77535531  1691.28483031   650.3860744  -1475.60057844]\n",
      "w_0 = 14462.250000000004\n"
     ]
    }
   ],
   "execution_count": 11
  },
  {
   "cell_type": "markdown",
   "id": "0d6dde32-0257-4542-b6cb-0b9d82833048",
   "metadata": {
    "id": "0d6dde32-0257-4542-b6cb-0b9d82833048"
   },
   "source": [
    "# Đánh giá"
   ]
  },
  {
   "cell_type": "code",
   "id": "9d163fa8-9309-40fb-b435-444beb295c84",
   "metadata": {
    "id": "9d163fa8-9309-40fb-b435-444beb295c84",
    "ExecuteTime": {
     "end_time": "2025-08-28T08:32:58.465891Z",
     "start_time": "2025-08-28T08:32:58.464041Z"
    }
   },
   "source": [
    "from sklearn.metrics import mean_squared_error\n",
    "\n",
    "def relative_error(y_true, y_pred):\n",
    "    errors = np.abs(y_pred - y_true).astype(float) / y_true\n",
    "    return np.mean(errors)*100"
   ],
   "outputs": [],
   "execution_count": 12
  },
  {
   "cell_type": "code",
   "id": "2899d591-f9c6-4c40-b126-ef1d1660eb1c",
   "metadata": {
    "colab": {
     "base_uri": "https://localhost:8080/"
    },
    "id": "2899d591-f9c6-4c40-b126-ef1d1660eb1c",
    "outputId": "753563c3-09ea-46e1-c532-dc9b544c44ba",
    "ExecuteTime": {
     "end_time": "2025-08-28T08:32:58.516788Z",
     "start_time": "2025-08-28T08:32:58.514424Z"
    }
   },
   "source": [
    "y_pred_test = model1.predict(X_test)\n",
    "print ('RMSE: {:.2f}'.format(np.sqrt(mean_squared_error(y_test, y_pred_test))))\n",
    "print ('Mean relative errors: {:.1f}%'.format(relative_error(y_test, y_pred_test)))"
   ],
   "outputs": [
    {
     "name": "stdout",
     "output_type": "stream",
     "text": [
      "RMSE: 5017.35\n",
      "Mean relative errors: 19.0%\n"
     ]
    }
   ],
   "execution_count": 13
  },
  {
   "cell_type": "code",
   "id": "ba545a96-a97e-483c-a31c-7fee063f479e",
   "metadata": {
    "tags": [],
    "colab": {
     "base_uri": "https://localhost:8080/"
    },
    "id": "ba545a96-a97e-483c-a31c-7fee063f479e",
    "outputId": "3b99c558-5476-4dc1-95f1-8cbbfcc8fc63",
    "ExecuteTime": {
     "end_time": "2025-08-28T08:32:58.646796Z",
     "start_time": "2025-08-28T08:32:58.578376Z"
    }
   },
   "source": [
    "###### exercise #####\n",
    "# Yêu cầu: Vẽ biểu đồ đường so sánh y_test và y_pred_test\n",
    "# Gợi ý: sử dụng matplotlib như bài thực hành 1\n",
    "######################\n",
    "\n",
    "import matplotlib.pyplot as plt\n",
    "\n",
    "plt.figure(figsize=(12, 8))\n",
    "\n",
    "plt.plot(y_pred_test, label = 'predict')\n",
    "plt.plot(y_test, label = 'real')\n",
    "\n",
    "plt.legend()\n",
    "plt.show()"
   ],
   "outputs": [
    {
     "data": {
      "text/plain": [
       "<Figure size 1200x800 with 1 Axes>"
      ],
      "image/png": "[encoded data removed]"
     },
     "metadata": {},
     "output_type": "display_data"
    }
   ],
   "execution_count": 14
  },
  {
   "cell_type": "markdown",
   "id": "e4e7b12e-d073-46ec-bf04-33cd7b6c3da7",
   "metadata": {
    "id": "e4e7b12e-d073-46ec-bf04-33cd7b6c3da7"
   },
   "source": [
    "Kết quả dự đoán không khớp một chút nào so với dữ liệu thật\n",
    "\n",
    "Lý do có thể là vì chúng ta chưa tận dụng hết thông tin của dữ liệu\n",
    "\n",
    "Quan sát thấy doanh thu có xu hướng biến động theo từ tháng trong một năm\n",
    "\n",
    "=> Tận dụng thông tin tháng hiệu quả. Có thể xây dựng mô hình regression với đặc trưng Month theo kiểu categorical kết hợp với các đặc trưng khác."
   ]
  },
  {
   "cell_type": "markdown",
   "id": "74c08d87-c460-4821-96fe-28c3d269704c",
   "metadata": {
    "id": "74c08d87-c460-4821-96fe-28c3d269704c"
   },
   "source": [
    "# Giải pháp cải tiến"
   ]
  },
  {
   "cell_type": "code",
   "id": "4725ca58-e860-4790-b071-27efc7b714db",
   "metadata": {
    "colab": {
     "base_uri": "https://localhost:8080/"
    },
    "id": "4725ca58-e860-4790-b071-27efc7b714db",
    "outputId": "556ce06c-3ca2-4570-9ec0-bcf8c652edcd",
    "ExecuteTime": {
     "end_time": "2025-08-28T08:32:58.664501Z",
     "start_time": "2025-08-28T08:32:58.658865Z"
    }
   },
   "source": [
    "month_onehot_train = pd.get_dummies(df_train.Month) #get_dummies -> One-hot encoding function in pandas\n",
    "month_onehot_train.head()\n"
   ],
   "outputs": [
    {
     "data": {
      "text/plain": [
       "      1      2      3      4      5      6      7      8      9      10  \\\n",
       "0   True  False  False  False  False  False  False  False  False  False   \n",
       "1  False   True  False  False  False  False  False  False  False  False   \n",
       "2  False  False   True  False  False  False  False  False  False  False   \n",
       "3  False  False  False   True  False  False  False  False  False  False   \n",
       "4  False  False  False  False   True  False  False  False  False  False   \n",
       "\n",
       "      11     12  \n",
       "0  False  False  \n",
       "1  False  False  \n",
       "2  False  False  \n",
       "3  False  False  \n",
       "4  False  False  "
      ],
      "text/html": [
       "<div>\n",
       "<style scoped>\n",
       "    .dataframe tbody tr th:only-of-type {\n",
       "        vertical-align: middle;\n",
       "    }\n",
       "\n",
       "    .dataframe tbody tr th {\n",
       "        vertical-align: top;\n",
       "    }\n",
       "\n",
       "    .dataframe thead th {\n",
       "        text-align: right;\n",
       "    }\n",
       "</style>\n",
       "<table border=\"1\" class=\"dataframe\">\n",
       "  <thead>\n",
       "    <tr style=\"text-align: right;\">\n",
       "      <th></th>\n",
       "      <th>1</th>\n",
       "      <th>2</th>\n",
       "      <th>3</th>\n",
       "      <th>4</th>\n",
       "      <th>5</th>\n",
       "      <th>6</th>\n",
       "      <th>7</th>\n",
       "      <th>8</th>\n",
       "      <th>9</th>\n",
       "      <th>10</th>\n",
       "      <th>11</th>\n",
       "      <th>12</th>\n",
       "    </tr>\n",
       "  </thead>\n",
       "  <tbody>\n",
       "    <tr>\n",
       "      <th>0</th>\n",
       "      <td>True</td>\n",
       "      <td>False</td>\n",
       "      <td>False</td>\n",
       "      <td>False</td>\n",
       "      <td>False</td>\n",
       "      <td>False</td>\n",
       "      <td>False</td>\n",
       "      <td>False</td>\n",
       "      <td>False</td>\n",
       "      <td>False</td>\n",
       "      <td>False</td>\n",
       "      <td>False</td>\n",
       "    </tr>\n",
       "    <tr>\n",
       "      <th>1</th>\n",
       "      <td>False</td>\n",
       "      <td>True</td>\n",
       "      <td>False</td>\n",
       "      <td>False</td>\n",
       "      <td>False</td>\n",
       "      <td>False</td>\n",
       "      <td>False</td>\n",
       "      <td>False</td>\n",
       "      <td>False</td>\n",
       "      <td>False</td>\n",
       "      <td>False</td>\n",
       "      <td>False</td>\n",
       "    </tr>\n",
       "    <tr>\n",
       "      <th>2</th>\n",
       "      <td>False</td>\n",
       "      <td>False</td>\n",
       "      <td>True</td>\n",
       "      <td>False</td>\n",
       "      <td>False</td>\n",
       "      <td>False</td>\n",
       "      <td>False</td>\n",
       "      <td>False</td>\n",
       "      <td>False</td>\n",
       "      <td>False</td>\n",
       "      <td>False</td>\n",
       "      <td>False</td>\n",
       "    </tr>\n",
       "    <tr>\n",
       "      <th>3</th>\n",
       "      <td>False</td>\n",
       "      <td>False</td>\n",
       "      <td>False</td>\n",
       "      <td>True</td>\n",
       "      <td>False</td>\n",
       "      <td>False</td>\n",
       "      <td>False</td>\n",
       "      <td>False</td>\n",
       "      <td>False</td>\n",
       "      <td>False</td>\n",
       "      <td>False</td>\n",
       "      <td>False</td>\n",
       "    </tr>\n",
       "    <tr>\n",
       "      <th>4</th>\n",
       "      <td>False</td>\n",
       "      <td>False</td>\n",
       "      <td>False</td>\n",
       "      <td>False</td>\n",
       "      <td>True</td>\n",
       "      <td>False</td>\n",
       "      <td>False</td>\n",
       "      <td>False</td>\n",
       "      <td>False</td>\n",
       "      <td>False</td>\n",
       "      <td>False</td>\n",
       "      <td>False</td>\n",
       "    </tr>\n",
       "  </tbody>\n",
       "</table>\n",
       "</div>"
      ]
     },
     "execution_count": 15,
     "metadata": {},
     "output_type": "execute_result"
    }
   ],
   "execution_count": 15
  },
  {
   "cell_type": "code",
   "id": "8640eb1c-a9f5-4f6b-9e68-4732c1d785cf",
   "metadata": {
    "colab": {
     "base_uri": "https://localhost:8080/"
    },
    "id": "8640eb1c-a9f5-4f6b-9e68-4732c1d785cf",
    "outputId": "5e6890c7-bfc3-4996-d7ea-c208886d3ae5",
    "ExecuteTime": {
     "end_time": "2025-08-28T08:32:58.738242Z",
     "start_time": "2025-08-28T08:32:58.736303Z"
    }
   },
   "source": [
    "###### exercise #####\n",
    "# Yêu cầu: Ghép đặc trưng Month_1, ..., Month_12 vào các đặc trưng đang có, kết quả ở dạng numpy array\n",
    "# Gợi ý: sử dụng np.hstack\n",
    "######################\n",
    "print('type of month_onehot_train ', type(month_onehot_train))\n",
    "\n",
    "X_train = np.hstack((X_train, month_onehot_train)) #hstack -> horizontal stack (add more col)\n",
    "# X_train = np.concatenate((X_train, month_onehot_train), axis = 1) #axis = 1 -> horizontal\n",
    "# np.hstack((A,B)) and np.concatenate((A,B), axis=1) is the same, A first, then B\n",
    "\n",
    "print('type of y_test ', type(X_train))"
   ],
   "outputs": [
    {
     "name": "stdout",
     "output_type": "stream",
     "text": [
      "type of month_onehot_train  <class 'pandas.core.frame.DataFrame'>\n",
      "type of y_test  <class 'numpy.ndarray'>\n"
     ]
    }
   ],
   "execution_count": 16
  },
  {
   "cell_type": "code",
   "id": "15ecc731-9222-48f3-89a4-3b82b7a89ea6",
   "metadata": {
    "id": "15ecc731-9222-48f3-89a4-3b82b7a89ea6",
    "ExecuteTime": {
     "end_time": "2025-08-28T08:32:58.803091Z",
     "start_time": "2025-08-28T08:32:58.800921Z"
    }
   },
   "source": [
    "# Tương tự với X_test\n",
    "X_test = np.hstack((X_test, pd.get_dummies(df_test.Month)))"
   ],
   "outputs": [],
   "execution_count": 17
  },
  {
   "cell_type": "code",
   "id": "2f16fa13-c6fd-4849-8f22-46f5bb903c8c",
   "metadata": {
    "colab": {
     "base_uri": "https://localhost:8080/"
    },
    "id": "2f16fa13-c6fd-4849-8f22-46f5bb903c8c",
    "outputId": "c7e6249d-44df-4e66-c985-bfc563b6e24a",
    "ExecuteTime": {
     "end_time": "2025-08-28T08:32:58.891363Z",
     "start_time": "2025-08-28T08:32:58.885877Z"
    }
   },
   "source": [
    "model1.fit(X_train, y_train)"
   ],
   "outputs": [
    {
     "data": {
      "text/plain": [
       "LinearRegression()"
      ],
      "text/html": [
       "<style>#sk-container-id-1 {\n",
       "  /* Definition of color scheme common for light and dark mode */\n",
       "  --sklearn-color-text: #000;\n",
       "  --sklearn-color-text-muted: #666;\n",
       "  --sklearn-color-line: gray;\n",
       "  /* Definition of color scheme for unfitted estimators */\n",
       "  --sklearn-color-unfitted-level-0: #fff5e6;\n",
       "  --sklearn-color-unfitted-level-1: #f6e4d2;\n",
       "  --sklearn-color-unfitted-level-2: #ffe0b3;\n",
       "  --sklearn-color-unfitted-level-3: chocolate;\n",
       "  /* Definition of color scheme for fitted estimators */\n",
       "  --sklearn-color-fitted-level-0: #f0f8ff;\n",
       "  --sklearn-color-fitted-level-1: #d4ebff;\n",
       "  --sklearn-color-fitted-level-2: #b3dbfd;\n",
       "  --sklearn-color-fitted-level-3: cornflowerblue;\n",
       "\n",
       "  /* Specific color for light theme */\n",
       "  --sklearn-color-text-on-default-background: var(--sg-text-color, var(--theme-code-foreground, var(--jp-content-font-color1, black)));\n",
       "  --sklearn-color-background: var(--sg-background-color, var(--theme-background, var(--jp-layout-color0, white)));\n",
       "  --sklearn-color-border-box: var(--sg-text-color, var(--theme-code-foreground, var(--jp-content-font-color1, black)));\n",
       "  --sklearn-color-icon: #696969;\n",
       "\n",
       "  @media (prefers-color-scheme: dark) {\n",
       "    /* Redefinition of color scheme for dark theme */\n",
       "    --sklearn-color-text-on-default-background: var(--sg-text-color, var(--theme-code-foreground, var(--jp-content-font-color1, white)));\n",
       "    --sklearn-color-background: var(--sg-background-color, var(--theme-background, var(--jp-layout-color0, #111)));\n",
       "    --sklearn-color-border-box: var(--sg-text-color, var(--theme-code-foreground, var(--jp-content-font-color1, white)));\n",
       "    --sklearn-color-icon: #878787;\n",
       "  }\n",
       "}\n",
       "\n",
       "#sk-container-id-1 {\n",
       "  color: var(--sklearn-color-text);\n",
       "}\n",
       "\n",
       "#sk-container-id-1 pre {\n",
       "  padding: 0;\n",
       "}\n",
       "\n",
       "#sk-container-id-1 input.sk-hidden--visually {\n",
       "  border: 0;\n",
       "  clip: rect(1px 1px 1px 1px);\n",
       "  clip: rect(1px, 1px, 1px, 1px);\n",
       "  height: 1px;\n",
       "  margin: -1px;\n",
       "  overflow: hidden;\n",
       "  padding: 0;\n",
       "  position: absolute;\n",
       "  width: 1px;\n",
       "}\n",
       "\n",
       "#sk-container-id-1 div.sk-dashed-wrapped {\n",
       "  border: 1px dashed var(--sklearn-color-line);\n",
       "  margin: 0 0.4em 0.5em 0.4em;\n",
       "  box-sizing: border-box;\n",
       "  padding-bottom: 0.4em;\n",
       "  background-color: var(--sklearn-color-background);\n",
       "}\n",
       "\n",
       "#sk-container-id-1 div.sk-container {\n",
       "  /* jupyter's `normalize.less` sets `[hidden] { display: none; }`\n",
       "     but bootstrap.min.css set `[hidden] { display: none !important; }`\n",
       "     so we also need the `!important` here to be able to override the\n",
       "     default hidden behavior on the sphinx rendered scikit-learn.org.\n",
       "     See: https://github.com/scikit-learn/scikit-learn/issues/21755 */\n",
       "  display: inline-block !important;\n",
       "  position: relative;\n",
       "}\n",
       "\n",
       "#sk-container-id-1 div.sk-text-repr-fallback {\n",
       "  display: none;\n",
       "}\n",
       "\n",
       "div.sk-parallel-item,\n",
       "div.sk-serial,\n",
       "div.sk-item {\n",
       "  /* draw centered vertical line to link estimators */\n",
       "  background-image: linear-gradient(var(--sklearn-color-text-on-default-background), var(--sklearn-color-text-on-default-background));\n",
       "  background-size: 2px 100%;\n",
       "  background-repeat: no-repeat;\n",
       "  background-position: center center;\n",
       "}\n",
       "\n",
       "/* Parallel-specific style estimator block */\n",
       "\n",
       "#sk-container-id-1 div.sk-parallel-item::after {\n",
       "  content: \"\";\n",
       "  width: 100%;\n",
       "  border-bottom: 2px solid var(--sklearn-color-text-on-default-background);\n",
       "  flex-grow: 1;\n",
       "}\n",
       "\n",
       "#sk-container-id-1 div.sk-parallel {\n",
       "  display: flex;\n",
       "  align-items: stretch;\n",
       "  justify-content: center;\n",
       "  background-color: var(--sklearn-color-background);\n",
       "  position: relative;\n",
       "}\n",
       "\n",
       "#sk-container-id-1 div.sk-parallel-item {\n",
       "  display: flex;\n",
       "  flex-direction: column;\n",
       "}\n",
       "\n",
       "#sk-container-id-1 div.sk-parallel-item:first-child::after {\n",
       "  align-self: flex-end;\n",
       "  width: 50%;\n",
       "}\n",
       "\n",
       "#sk-container-id-1 div.sk-parallel-item:last-child::after {\n",
       "  align-self: flex-start;\n",
       "  width: 50%;\n",
       "}\n",
       "\n",
       "#sk-container-id-1 div.sk-parallel-item:only-child::after {\n",
       "  width: 0;\n",
       "}\n",
       "\n",
       "/* Serial-specific style estimator block */\n",
       "\n",
       "#sk-container-id-1 div.sk-serial {\n",
       "  display: flex;\n",
       "  flex-direction: column;\n",
       "  align-items: center;\n",
       "  background-color: var(--sklearn-color-background);\n",
       "  padding-right: 1em;\n",
       "  padding-left: 1em;\n",
       "}\n",
       "\n",
       "\n",
       "/* Toggleable style: style used for estimator/Pipeline/ColumnTransformer box that is\n",
       "clickable and can be expanded/collapsed.\n",
       "- Pipeline and ColumnTransformer use this feature and define the default style\n",
       "- Estimators will overwrite some part of the style using the `sk-estimator` class\n",
       "*/\n",
       "\n",
       "/* Pipeline and ColumnTransformer style (default) */\n",
       "\n",
       "#sk-container-id-1 div.sk-toggleable {\n",
       "  /* Default theme specific background. It is overwritten whether we have a\n",
       "  specific estimator or a Pipeline/ColumnTransformer */\n",
       "  background-color: var(--sklearn-color-background);\n",
       "}\n",
       "\n",
       "/* Toggleable label */\n",
       "#sk-container-id-1 label.sk-toggleable__label {\n",
       "  cursor: pointer;\n",
       "  display: flex;\n",
       "  width: 100%;\n",
       "  margin-bottom: 0;\n",
       "  padding: 0.5em;\n",
       "  box-sizing: border-box;\n",
       "  text-align: center;\n",
       "  align-items: start;\n",
       "  justify-content: space-between;\n",
       "  gap: 0.5em;\n",
       "}\n",
       "\n",
       "#sk-container-id-1 label.sk-toggleable__label .caption {\n",
       "  font-size: 0.6rem;\n",
       "  font-weight: lighter;\n",
       "  color: var(--sklearn-color-text-muted);\n",
       "}\n",
       "\n",
       "#sk-container-id-1 label.sk-toggleable__label-arrow:before {\n",
       "  /* Arrow on the left of the label */\n",
       "  content: \"▸\";\n",
       "  float: left;\n",
       "  margin-right: 0.25em;\n",
       "  color: var(--sklearn-color-icon);\n",
       "}\n",
       "\n",
       "#sk-container-id-1 label.sk-toggleable__label-arrow:hover:before {\n",
       "  color: var(--sklearn-color-text);\n",
       "}\n",
       "\n",
       "/* Toggleable content - dropdown */\n",
       "\n",
       "#sk-container-id-1 div.sk-toggleable__content {\n",
       "  display: none;\n",
       "  text-align: left;\n",
       "  /* unfitted */\n",
       "  background-color: var(--sklearn-color-unfitted-level-0);\n",
       "}\n",
       "\n",
       "#sk-container-id-1 div.sk-toggleable__content.fitted {\n",
       "  /* fitted */\n",
       "  background-color: var(--sklearn-color-fitted-level-0);\n",
       "}\n",
       "\n",
       "#sk-container-id-1 div.sk-toggleable__content pre {\n",
       "  margin: 0.2em;\n",
       "  border-radius: 0.25em;\n",
       "  color: var(--sklearn-color-text);\n",
       "  /* unfitted */\n",
       "  background-color: var(--sklearn-color-unfitted-level-0);\n",
       "}\n",
       "\n",
       "#sk-container-id-1 div.sk-toggleable__content.fitted pre {\n",
       "  /* unfitted */\n",
       "  background-color: var(--sklearn-color-fitted-level-0);\n",
       "}\n",
       "\n",
       "#sk-container-id-1 input.sk-toggleable__control:checked~div.sk-toggleable__content {\n",
       "  /* Expand drop-down */\n",
       "  display: block;\n",
       "  width: 100%;\n",
       "  overflow: visible;\n",
       "}\n",
       "\n",
       "#sk-container-id-1 input.sk-toggleable__control:checked~label.sk-toggleable__label-arrow:before {\n",
       "  content: \"▾\";\n",
       "}\n",
       "\n",
       "/* Pipeline/ColumnTransformer-specific style */\n",
       "\n",
       "#sk-container-id-1 div.sk-label input.sk-toggleable__control:checked~label.sk-toggleable__label {\n",
       "  color: var(--sklearn-color-text);\n",
       "  background-color: var(--sklearn-color-unfitted-level-2);\n",
       "}\n",
       "\n",
       "#sk-container-id-1 div.sk-label.fitted input.sk-toggleable__control:checked~label.sk-toggleable__label {\n",
       "  background-color: var(--sklearn-color-fitted-level-2);\n",
       "}\n",
       "\n",
       "/* Estimator-specific style */\n",
       "\n",
       "/* Colorize estimator box */\n",
       "#sk-container-id-1 div.sk-estimator input.sk-toggleable__control:checked~label.sk-toggleable__label {\n",
       "  /* unfitted */\n",
       "  background-color: var(--sklearn-color-unfitted-level-2);\n",
       "}\n",
       "\n",
       "#sk-container-id-1 div.sk-estimator.fitted input.sk-toggleable__control:checked~label.sk-toggleable__label {\n",
       "  /* fitted */\n",
       "  background-color: var(--sklearn-color-fitted-level-2);\n",
       "}\n",
       "\n",
       "#sk-container-id-1 div.sk-label label.sk-toggleable__label,\n",
       "#sk-container-id-1 div.sk-label label {\n",
       "  /* The background is the default theme color */\n",
       "  color: var(--sklearn-color-text-on-default-background);\n",
       "}\n",
       "\n",
       "/* On hover, darken the color of the background */\n",
       "#sk-container-id-1 div.sk-label:hover label.sk-toggleable__label {\n",
       "  color: var(--sklearn-color-text);\n",
       "  background-color: var(--sklearn-color-unfitted-level-2);\n",
       "}\n",
       "\n",
       "/* Label box, darken color on hover, fitted */\n",
       "#sk-container-id-1 div.sk-label.fitted:hover label.sk-toggleable__label.fitted {\n",
       "  color: var(--sklearn-color-text);\n",
       "  background-color: var(--sklearn-color-fitted-level-2);\n",
       "}\n",
       "\n",
       "/* Estimator label */\n",
       "\n",
       "#sk-container-id-1 div.sk-label label {\n",
       "  font-family: monospace;\n",
       "  font-weight: bold;\n",
       "  display: inline-block;\n",
       "  line-height: 1.2em;\n",
       "}\n",
       "\n",
       "#sk-container-id-1 div.sk-label-container {\n",
       "  text-align: center;\n",
       "}\n",
       "\n",
       "/* Estimator-specific */\n",
       "#sk-container-id-1 div.sk-estimator {\n",
       "  font-family: monospace;\n",
       "  border: 1px dotted var(--sklearn-color-border-box);\n",
       "  border-radius: 0.25em;\n",
       "  box-sizing: border-box;\n",
       "  margin-bottom: 0.5em;\n",
       "  /* unfitted */\n",
       "  background-color: var(--sklearn-color-unfitted-level-0);\n",
       "}\n",
       "\n",
       "#sk-container-id-1 div.sk-estimator.fitted {\n",
       "  /* fitted */\n",
       "  background-color: var(--sklearn-color-fitted-level-0);\n",
       "}\n",
       "\n",
       "/* on hover */\n",
       "#sk-container-id-1 div.sk-estimator:hover {\n",
       "  /* unfitted */\n",
       "  background-color: var(--sklearn-color-unfitted-level-2);\n",
       "}\n",
       "\n",
       "#sk-container-id-1 div.sk-estimator.fitted:hover {\n",
       "  /* fitted */\n",
       "  background-color: var(--sklearn-color-fitted-level-2);\n",
       "}\n",
       "\n",
       "/* Specification for estimator info (e.g. \"i\" and \"?\") */\n",
       "\n",
       "/* Common style for \"i\" and \"?\" */\n",
       "\n",
       ".sk-estimator-doc-link,\n",
       "a:link.sk-estimator-doc-link,\n",
       "a:visited.sk-estimator-doc-link {\n",
       "  float: right;\n",
       "  font-size: smaller;\n",
       "  line-height: 1em;\n",
       "  font-family: monospace;\n",
       "  background-color: var(--sklearn-color-background);\n",
       "  border-radius: 1em;\n",
       "  height: 1em;\n",
       "  width: 1em;\n",
       "  text-decoration: none !important;\n",
       "  margin-left: 0.5em;\n",
       "  text-align: center;\n",
       "  /* unfitted */\n",
       "  border: var(--sklearn-color-unfitted-level-1) 1pt solid;\n",
       "  color: var(--sklearn-color-unfitted-level-1);\n",
       "}\n",
       "\n",
       ".sk-estimator-doc-link.fitted,\n",
       "a:link.sk-estimator-doc-link.fitted,\n",
       "a:visited.sk-estimator-doc-link.fitted {\n",
       "  /* fitted */\n",
       "  border: var(--sklearn-color-fitted-level-1) 1pt solid;\n",
       "  color: var(--sklearn-color-fitted-level-1);\n",
       "}\n",
       "\n",
       "/* On hover */\n",
       "div.sk-estimator:hover .sk-estimator-doc-link:hover,\n",
       ".sk-estimator-doc-link:hover,\n",
       "div.sk-label-container:hover .sk-estimator-doc-link:hover,\n",
       ".sk-estimator-doc-link:hover {\n",
       "  /* unfitted */\n",
       "  background-color: var(--sklearn-color-unfitted-level-3);\n",
       "  color: var(--sklearn-color-background);\n",
       "  text-decoration: none;\n",
       "}\n",
       "\n",
       "div.sk-estimator.fitted:hover .sk-estimator-doc-link.fitted:hover,\n",
       ".sk-estimator-doc-link.fitted:hover,\n",
       "div.sk-label-container:hover .sk-estimator-doc-link.fitted:hover,\n",
       ".sk-estimator-doc-link.fitted:hover {\n",
       "  /* fitted */\n",
       "  background-color: var(--sklearn-color-fitted-level-3);\n",
       "  color: var(--sklearn-color-background);\n",
       "  text-decoration: none;\n",
       "}\n",
       "\n",
       "/* Span, style for the box shown on hovering the info icon */\n",
       ".sk-estimator-doc-link span {\n",
       "  display: none;\n",
       "  z-index: 9999;\n",
       "  position: relative;\n",
       "  font-weight: normal;\n",
       "  right: .2ex;\n",
       "  padding: .5ex;\n",
       "  margin: .5ex;\n",
       "  width: min-content;\n",
       "  min-width: 20ex;\n",
       "  max-width: 50ex;\n",
       "  color: var(--sklearn-color-text);\n",
       "  box-shadow: 2pt 2pt 4pt #999;\n",
       "  /* unfitted */\n",
       "  background: var(--sklearn-color-unfitted-level-0);\n",
       "  border: .5pt solid var(--sklearn-color-unfitted-level-3);\n",
       "}\n",
       "\n",
       ".sk-estimator-doc-link.fitted span {\n",
       "  /* fitted */\n",
       "  background: var(--sklearn-color-fitted-level-0);\n",
       "  border: var(--sklearn-color-fitted-level-3);\n",
       "}\n",
       "\n",
       ".sk-estimator-doc-link:hover span {\n",
       "  display: block;\n",
       "}\n",
       "\n",
       "/* \"?\"-specific style due to the `<a>` HTML tag */\n",
       "\n",
       "#sk-container-id-1 a.estimator_doc_link {\n",
       "  float: right;\n",
       "  font-size: 1rem;\n",
       "  line-height: 1em;\n",
       "  font-family: monospace;\n",
       "  background-color: var(--sklearn-color-background);\n",
       "  border-radius: 1rem;\n",
       "  height: 1rem;\n",
       "  width: 1rem;\n",
       "  text-decoration: none;\n",
       "  /* unfitted */\n",
       "  color: var(--sklearn-color-unfitted-level-1);\n",
       "  border: var(--sklearn-color-unfitted-level-1) 1pt solid;\n",
       "}\n",
       "\n",
       "#sk-container-id-1 a.estimator_doc_link.fitted {\n",
       "  /* fitted */\n",
       "  border: var(--sklearn-color-fitted-level-1) 1pt solid;\n",
       "  color: var(--sklearn-color-fitted-level-1);\n",
       "}\n",
       "\n",
       "/* On hover */\n",
       "#sk-container-id-1 a.estimator_doc_link:hover {\n",
       "  /* unfitted */\n",
       "  background-color: var(--sklearn-color-unfitted-level-3);\n",
       "  color: var(--sklearn-color-background);\n",
       "  text-decoration: none;\n",
       "}\n",
       "\n",
       "#sk-container-id-1 a.estimator_doc_link.fitted:hover {\n",
       "  /* fitted */\n",
       "  background-color: var(--sklearn-color-fitted-level-3);\n",
       "}\n",
       "\n",
       ".estimator-table summary {\n",
       "    padding: .5rem;\n",
       "    font-family: monospace;\n",
       "    cursor: pointer;\n",
       "}\n",
       "\n",
       ".estimator-table details[open] {\n",
       "    padding-left: 0.1rem;\n",
       "    padding-right: 0.1rem;\n",
       "    padding-bottom: 0.3rem;\n",
       "}\n",
       "\n",
       ".estimator-table .parameters-table {\n",
       "    margin-left: auto !important;\n",
       "    margin-right: auto !important;\n",
       "}\n",
       "\n",
       ".estimator-table .parameters-table tr:nth-child(odd) {\n",
       "    background-color: #fff;\n",
       "}\n",
       "\n",
       ".estimator-table .parameters-table tr:nth-child(even) {\n",
       "    background-color: #f6f6f6;\n",
       "}\n",
       "\n",
       ".estimator-table .parameters-table tr:hover {\n",
       "    background-color: #e0e0e0;\n",
       "}\n",
       "\n",
       ".estimator-table table td {\n",
       "    border: 1px solid rgba(106, 105, 104, 0.232);\n",
       "}\n",
       "\n",
       ".user-set td {\n",
       "    color:rgb(255, 94, 0);\n",
       "    text-align: left;\n",
       "}\n",
       "\n",
       ".user-set td.value pre {\n",
       "    color:rgb(255, 94, 0) !important;\n",
       "    background-color: transparent !important;\n",
       "}\n",
       "\n",
       ".default td {\n",
       "    color: black;\n",
       "    text-align: left;\n",
       "}\n",
       "\n",
       ".user-set td i,\n",
       ".default td i {\n",
       "    color: black;\n",
       "}\n",
       "\n",
       ".copy-paste-icon {\n",
       "    background-image: url(data:image/svg+xml;base64,PHN2ZyB4bWxucz0iaHR0cDovL3d3dy53My5vcmcvMjAwMC9zdmciIHZpZXdCb3g9IjAgMCA0NDggNTEyIj48IS0tIUZvbnQgQXdlc29tZSBGcmVlIDYuNy4yIGJ5IEBmb250YXdlc29tZSAtIGh0dHBzOi8vZm9udGF3ZXNvbWUuY29tIExpY2Vuc2UgLSBodHRwczovL2ZvbnRhd2Vzb21lLmNvbS9saWNlbnNlL2ZyZWUgQ29weXJpZ2h0IDIwMjUgRm9udGljb25zLCBJbmMuLS0+PHBhdGggZD0iTTIwOCAwTDMzMi4xIDBjMTIuNyAwIDI0LjkgNS4xIDMzLjkgMTQuMWw2Ny45IDY3LjljOSA5IDE0LjEgMjEuMiAxNC4xIDMzLjlMNDQ4IDMzNmMwIDI2LjUtMjEuNSA0OC00OCA0OGwtMTkyIDBjLTI2LjUgMC00OC0yMS41LTQ4LTQ4bDAtMjg4YzAtMjYuNSAyMS41LTQ4IDQ4LTQ4ek00OCAxMjhsODAgMCAwIDY0LTY0IDAgMCAyNTYgMTkyIDAgMC0zMiA2NCAwIDAgNDhjMCAyNi41LTIxLjUgNDgtNDggNDhMNDggNTEyYy0yNi41IDAtNDgtMjEuNS00OC00OEwwIDE3NmMwLTI2LjUgMjEuNS00OCA0OC00OHoiLz48L3N2Zz4=);\n",
       "    background-repeat: no-repeat;\n",
       "    background-size: 14px 14px;\n",
       "    background-position: 0;\n",
       "    display: inline-block;\n",
       "    width: 14px;\n",
       "    height: 14px;\n",
       "    cursor: pointer;\n",
       "}\n",
       "</style><body><div id=\"sk-container-id-1\" class=\"sk-top-container\"><div class=\"sk-text-repr-fallback\"><pre>LinearRegression()</pre><b>In a Jupyter environment, please rerun this cell to show the HTML representation or trust the notebook. <br />On GitHub, the HTML representation is unable to render, please try loading this page with nbviewer.org.</b></div><div class=\"sk-container\" hidden><div class=\"sk-item\"><div class=\"sk-estimator fitted sk-toggleable\"><input class=\"sk-toggleable__control sk-hidden--visually\" id=\"sk-estimator-id-1\" type=\"checkbox\" checked><label for=\"sk-estimator-id-1\" class=\"sk-toggleable__label fitted sk-toggleable__label-arrow\"><div><div>LinearRegression</div></div><div><a class=\"sk-estimator-doc-link fitted\" rel=\"noreferrer\" target=\"_blank\" href=\"https://scikit-learn.org/1.7/modules/generated/sklearn.linear_model.LinearRegression.html\">?<span>Documentation for LinearRegression</span></a><span class=\"sk-estimator-doc-link fitted\">i<span>Fitted</span></span></div></label><div class=\"sk-toggleable__content fitted\" data-param-prefix=\"\">\n",
       "        <div class=\"estimator-table\">\n",
       "            <details>\n",
       "                <summary>Parameters</summary>\n",
       "                <table class=\"parameters-table\">\n",
       "                  <tbody>\n",
       "                    \n",
       "        <tr class=\"default\">\n",
       "            <td><i class=\"copy-paste-icon\"\n",
       "                 onclick=\"copyToClipboard('fit_intercept',\n",
       "                          this.parentElement.nextElementSibling)\"\n",
       "            ></i></td>\n",
       "            <td class=\"param\">fit_intercept&nbsp;</td>\n",
       "            <td class=\"value\">True</td>\n",
       "        </tr>\n",
       "    \n",
       "\n",
       "        <tr class=\"default\">\n",
       "            <td><i class=\"copy-paste-icon\"\n",
       "                 onclick=\"copyToClipboard('copy_X',\n",
       "                          this.parentElement.nextElementSibling)\"\n",
       "            ></i></td>\n",
       "            <td class=\"param\">copy_X&nbsp;</td>\n",
       "            <td class=\"value\">True</td>\n",
       "        </tr>\n",
       "    \n",
       "\n",
       "        <tr class=\"default\">\n",
       "            <td><i class=\"copy-paste-icon\"\n",
       "                 onclick=\"copyToClipboard('tol',\n",
       "                          this.parentElement.nextElementSibling)\"\n",
       "            ></i></td>\n",
       "            <td class=\"param\">tol&nbsp;</td>\n",
       "            <td class=\"value\">1e-06</td>\n",
       "        </tr>\n",
       "    \n",
       "\n",
       "        <tr class=\"default\">\n",
       "            <td><i class=\"copy-paste-icon\"\n",
       "                 onclick=\"copyToClipboard('n_jobs',\n",
       "                          this.parentElement.nextElementSibling)\"\n",
       "            ></i></td>\n",
       "            <td class=\"param\">n_jobs&nbsp;</td>\n",
       "            <td class=\"value\">None</td>\n",
       "        </tr>\n",
       "    \n",
       "\n",
       "        <tr class=\"default\">\n",
       "            <td><i class=\"copy-paste-icon\"\n",
       "                 onclick=\"copyToClipboard('positive',\n",
       "                          this.parentElement.nextElementSibling)\"\n",
       "            ></i></td>\n",
       "            <td class=\"param\">positive&nbsp;</td>\n",
       "            <td class=\"value\">False</td>\n",
       "        </tr>\n",
       "    \n",
       "                  </tbody>\n",
       "                </table>\n",
       "            </details>\n",
       "        </div>\n",
       "    </div></div></div></div></div><script>function copyToClipboard(text, element) {\n",
       "    // Get the parameter prefix from the closest toggleable content\n",
       "    const toggleableContent = element.closest('.sk-toggleable__content');\n",
       "    const paramPrefix = toggleableContent ? toggleableContent.dataset.paramPrefix : '';\n",
       "    const fullParamName = paramPrefix ? `${paramPrefix}${text}` : text;\n",
       "\n",
       "    const originalStyle = element.style;\n",
       "    const computedStyle = window.getComputedStyle(element);\n",
       "    const originalWidth = computedStyle.width;\n",
       "    const originalHTML = element.innerHTML.replace('Copied!', '');\n",
       "\n",
       "    navigator.clipboard.writeText(fullParamName)\n",
       "        .then(() => {\n",
       "            element.style.width = originalWidth;\n",
       "            element.style.color = 'green';\n",
       "            element.innerHTML = \"Copied!\";\n",
       "\n",
       "            setTimeout(() => {\n",
       "                element.innerHTML = originalHTML;\n",
       "                element.style = originalStyle;\n",
       "            }, 2000);\n",
       "        })\n",
       "        .catch(err => {\n",
       "            console.error('Failed to copy:', err);\n",
       "            element.style.color = 'red';\n",
       "            element.innerHTML = \"Failed!\";\n",
       "            setTimeout(() => {\n",
       "                element.innerHTML = originalHTML;\n",
       "                element.style = originalStyle;\n",
       "            }, 2000);\n",
       "        });\n",
       "    return false;\n",
       "}\n",
       "\n",
       "document.querySelectorAll('.fa-regular.fa-copy').forEach(function(element) {\n",
       "    const toggleableContent = element.closest('.sk-toggleable__content');\n",
       "    const paramPrefix = toggleableContent ? toggleableContent.dataset.paramPrefix : '';\n",
       "    const paramName = element.parentElement.nextElementSibling.textContent.trim();\n",
       "    const fullParamName = paramPrefix ? `${paramPrefix}${paramName}` : paramName;\n",
       "\n",
       "    element.setAttribute('title', fullParamName);\n",
       "});\n",
       "</script></body>"
      ]
     },
     "execution_count": 18,
     "metadata": {},
     "output_type": "execute_result"
    }
   ],
   "execution_count": 18
  },
  {
   "cell_type": "code",
   "id": "205642ee-8d3d-4435-805a-449f93bde132",
   "metadata": {
    "colab": {
     "base_uri": "https://localhost:8080/"
    },
    "id": "205642ee-8d3d-4435-805a-449f93bde132",
    "outputId": "fa448a02-4526-46e8-cce2-8b696c579216",
    "ExecuteTime": {
     "end_time": "2025-08-28T08:32:58.949424Z",
     "start_time": "2025-08-28T08:32:58.946012Z"
    }
   },
   "source": [
    "y_pred_test = model1.predict(X_test)\n",
    "print ('RMSE: {:.2f}'.format(np.sqrt(mean_squared_error(y_test, y_pred_test))))\n",
    "print ('Mean relative errors: {:.1f}%'.format(relative_error(y_test, y_pred_test)))"
   ],
   "outputs": [
    {
     "name": "stdout",
     "output_type": "stream",
     "text": [
      "RMSE: 3590.37\n",
      "Mean relative errors: 12.8%\n"
     ]
    }
   ],
   "execution_count": 19
  },
  {
   "cell_type": "code",
   "id": "99b73e09-3c87-428d-8625-5599a7ca4047",
   "metadata": {
    "colab": {
     "base_uri": "https://localhost:8080/"
    },
    "id": "99b73e09-3c87-428d-8625-5599a7ca4047",
    "outputId": "b7484fb8-624f-4630-e620-1ddaed0434ba",
    "ExecuteTime": {
     "end_time": "2025-08-28T08:32:59.046721Z",
     "start_time": "2025-08-28T08:32:58.994756Z"
    }
   },
   "source": [
    "plt.figure(figsize=(9,6))\n",
    "\n",
    "plt.plot(y_test)\n",
    "plt.plot(y_pred_test)\n",
    "\n",
    "plt.xlabel('Time index')\n",
    "\n",
    "plt.ylabel('Sales')\n",
    "\n",
    "\n",
    "# function to show the plot\n",
    "plt.show()"
   ],
   "outputs": [
    {
     "data": {
      "text/plain": [
       "<Figure size 900x600 with 1 Axes>"
      ],
      "image/png": "[encoded data removed]"
     },
     "metadata": {},
     "output_type": "display_data"
    }
   ],
   "execution_count": 20
  },
  {
   "metadata": {
    "ExecuteTime": {
     "end_time": "2025-08-28T08:32:59.123161Z",
     "start_time": "2025-08-28T08:32:59.120889Z"
    }
   },
   "cell_type": "code",
   "source": "",
   "id": "6c39ba7d7700bb7b",
   "outputs": [],
   "execution_count": null
  }
 ],
 "metadata": {
  "kernelspec": {
   "display_name": "Python 3",
   "name": "python3"
  },
  "language_info": {
   "codemirror_mode": {
    "name": "ipython",
    "version": 3
   },
   "file_extension": ".py",
   "mimetype": "text/x-python",
   "name": "python",
   "nbconvert_exporter": "python",
   "pygments_lexer": "ipython3",
   "version": "3.8.8"
  },
  "colab": {
   "provenance": [],
   "generative_ai_disabled": true
  }
 },
 "nbformat": 4,
 "nbformat_minor": 5
}
